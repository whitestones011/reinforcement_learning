{
 "cells": [
  {
   "cell_type": "markdown",
   "id": "6514fcfa-77c8-4453-8b07-71fc524f0f61",
   "metadata": {
    "tags": []
   },
   "source": [
    "# Introduction"
   ]
  },
  {
   "cell_type": "code",
   "execution_count": 5,
   "id": "add858fd-cf57-4f18-aae1-2724ad8cffe6",
   "metadata": {
    "tags": []
   },
   "outputs": [],
   "source": [
    "from pathlib import Path\n",
    "import sys\n",
    "\n",
    "import gymnasium as gym\n",
    "from gymnasium.wrappers.monitoring.video_recorder import VideoRecorder"
   ]
  },
  {
   "cell_type": "code",
   "execution_count": 2,
   "id": "2441c3aa-c2d9-4b21-9deb-684096882dba",
   "metadata": {
    "tags": []
   },
   "outputs": [],
   "source": [
    "sys.path.append('./utils')"
   ]
  },
  {
   "cell_type": "code",
   "execution_count": 12,
   "id": "6ad51ad5-39c2-4a71-9b3a-469fbb4066b5",
   "metadata": {
    "tags": []
   },
   "outputs": [],
   "source": [
    "from utils.video import display"
   ]
  },
  {
   "cell_type": "code",
   "execution_count": 28,
   "id": "8b3d133d-d823-4297-b0ce-32c8ddfc38d9",
   "metadata": {
    "tags": []
   },
   "outputs": [],
   "source": [
    "env = gym.make(\"LunarLander-v2\", render_mode='rgb_array')"
   ]
  },
  {
   "cell_type": "code",
   "execution_count": 29,
   "id": "9e977224-1800-43e7-915e-b01322437e78",
   "metadata": {
    "tags": []
   },
   "outputs": [],
   "source": [
    "video_path = './video.mp4'"
   ]
  },
  {
   "cell_type": "code",
   "execution_count": 30,
   "id": "0cc9d723-8768-48a2-9e55-6e79c995e391",
   "metadata": {
    "tags": []
   },
   "outputs": [],
   "source": [
    "recorder = VideoRecorder(env, video_path)"
   ]
  },
  {
   "cell_type": "code",
   "execution_count": 31,
   "id": "a78e8df2-bb53-4757-b6fd-4962b26c76d5",
   "metadata": {},
   "outputs": [],
   "source": [
    "%%capture\n",
    "# returns an initial observation\n",
    "env.reset()\n",
    "\n",
    "trials = 10\n",
    "\n",
    "for trial in range(trials):\n",
    "    \n",
    "    recorder.capture_frame()\n",
    "\n",
    "    observation, info = env.reset()\n",
    "    score, terminated = 0, False\n",
    "\n",
    "    while not terminated:\n",
    "        action = env.action_space.sample()  # agent policy that uses the observation and info\n",
    "        observation, reward, terminated, truncated, info = env.step(action)\n",
    "        score = score + reward\n",
    "\n",
    "    if terminated or truncated:\n",
    "        observation, info = env.reset()\n",
    "\n",
    "recorder.close()"
   ]
  },
  {
   "cell_type": "code",
   "execution_count": 32,
   "id": "3a578865-bc79-4417-a99d-8a5c9a55eedf",
   "metadata": {
    "tags": []
   },
   "outputs": [
    {
     "data": {
      "text/html": [
       "\n",
       "          <video alt=\"test\" autoplay controls style=\"width: 400px; height: 200px;\" id=\"theVideo\">\n",
       "            <source src=\"data:video/mp4;base64,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\" type=\"video/mp4\" />\n",
       "          </video>\n",
       "          <script>\n",
       "          video = document.getElementById(\"theVideo\")\n",
       "          video.playbackRate = 0.25;\n",
       "          </script>\n",
       "          "
      ],
      "text/plain": [
       "<IPython.core.display.HTML object>"
      ]
     },
     "metadata": {},
     "output_type": "display_data"
    }
   ],
   "source": [
    "display(video_path)"
   ]
  },
  {
   "cell_type": "code",
   "execution_count": null,
   "id": "6f34e843-4003-4c8c-913f-75de148693bd",
   "metadata": {},
   "outputs": [],
   "source": []
  }
 ],
 "metadata": {
  "availableInstances": [
   {
    "_defaultOrder": 0,
    "_isFastLaunch": true,
    "category": "General purpose",
    "gpuNum": 0,
    "hideHardwareSpecs": false,
    "memoryGiB": 4,
    "name": "ml.t3.medium",
    "vcpuNum": 2
   },
   {
    "_defaultOrder": 1,
    "_isFastLaunch": false,
    "category": "General purpose",
    "gpuNum": 0,
    "hideHardwareSpecs": false,
    "memoryGiB": 8,
    "name": "ml.t3.large",
    "vcpuNum": 2
   },
   {
    "_defaultOrder": 2,
    "_isFastLaunch": false,
    "category": "General purpose",
    "gpuNum": 0,
    "hideHardwareSpecs": false,
    "memoryGiB": 16,
    "name": "ml.t3.xlarge",
    "vcpuNum": 4
   },
   {
    "_defaultOrder": 3,
    "_isFastLaunch": false,
    "category": "General purpose",
    "gpuNum": 0,
    "hideHardwareSpecs": false,
    "memoryGiB": 32,
    "name": "ml.t3.2xlarge",
    "vcpuNum": 8
   },
   {
    "_defaultOrder": 4,
    "_isFastLaunch": true,
    "category": "General purpose",
    "gpuNum": 0,
    "hideHardwareSpecs": false,
    "memoryGiB": 8,
    "name": "ml.m5.large",
    "vcpuNum": 2
   },
   {
    "_defaultOrder": 5,
    "_isFastLaunch": false,
    "category": "General purpose",
    "gpuNum": 0,
    "hideHardwareSpecs": false,
    "memoryGiB": 16,
    "name": "ml.m5.xlarge",
    "vcpuNum": 4
   },
   {
    "_defaultOrder": 6,
    "_isFastLaunch": false,
    "category": "General purpose",
    "gpuNum": 0,
    "hideHardwareSpecs": false,
    "memoryGiB": 32,
    "name": "ml.m5.2xlarge",
    "vcpuNum": 8
   },
   {
    "_defaultOrder": 7,
    "_isFastLaunch": false,
    "category": "General purpose",
    "gpuNum": 0,
    "hideHardwareSpecs": false,
    "memoryGiB": 64,
    "name": "ml.m5.4xlarge",
    "vcpuNum": 16
   },
   {
    "_defaultOrder": 8,
    "_isFastLaunch": false,
    "category": "General purpose",
    "gpuNum": 0,
    "hideHardwareSpecs": false,
    "memoryGiB": 128,
    "name": "ml.m5.8xlarge",
    "vcpuNum": 32
   },
   {
    "_defaultOrder": 9,
    "_isFastLaunch": false,
    "category": "General purpose",
    "gpuNum": 0,
    "hideHardwareSpecs": false,
    "memoryGiB": 192,
    "name": "ml.m5.12xlarge",
    "vcpuNum": 48
   },
   {
    "_defaultOrder": 10,
    "_isFastLaunch": false,
    "category": "General purpose",
    "gpuNum": 0,
    "hideHardwareSpecs": false,
    "memoryGiB": 256,
    "name": "ml.m5.16xlarge",
    "vcpuNum": 64
   },
   {
    "_defaultOrder": 11,
    "_isFastLaunch": false,
    "category": "General purpose",
    "gpuNum": 0,
    "hideHardwareSpecs": false,
    "memoryGiB": 384,
    "name": "ml.m5.24xlarge",
    "vcpuNum": 96
   },
   {
    "_defaultOrder": 12,
    "_isFastLaunch": false,
    "category": "General purpose",
    "gpuNum": 0,
    "hideHardwareSpecs": false,
    "memoryGiB": 8,
    "name": "ml.m5d.large",
    "vcpuNum": 2
   },
   {
    "_defaultOrder": 13,
    "_isFastLaunch": false,
    "category": "General purpose",
    "gpuNum": 0,
    "hideHardwareSpecs": false,
    "memoryGiB": 16,
    "name": "ml.m5d.xlarge",
    "vcpuNum": 4
   },
   {
    "_defaultOrder": 14,
    "_isFastLaunch": false,
    "category": "General purpose",
    "gpuNum": 0,
    "hideHardwareSpecs": false,
    "memoryGiB": 32,
    "name": "ml.m5d.2xlarge",
    "vcpuNum": 8
   },
   {
    "_defaultOrder": 15,
    "_isFastLaunch": false,
    "category": "General purpose",
    "gpuNum": 0,
    "hideHardwareSpecs": false,
    "memoryGiB": 64,
    "name": "ml.m5d.4xlarge",
    "vcpuNum": 16
   },
   {
    "_defaultOrder": 16,
    "_isFastLaunch": false,
    "category": "General purpose",
    "gpuNum": 0,
    "hideHardwareSpecs": false,
    "memoryGiB": 128,
    "name": "ml.m5d.8xlarge",
    "vcpuNum": 32
   },
   {
    "_defaultOrder": 17,
    "_isFastLaunch": false,
    "category": "General purpose",
    "gpuNum": 0,
    "hideHardwareSpecs": false,
    "memoryGiB": 192,
    "name": "ml.m5d.12xlarge",
    "vcpuNum": 48
   },
   {
    "_defaultOrder": 18,
    "_isFastLaunch": false,
    "category": "General purpose",
    "gpuNum": 0,
    "hideHardwareSpecs": false,
    "memoryGiB": 256,
    "name": "ml.m5d.16xlarge",
    "vcpuNum": 64
   },
   {
    "_defaultOrder": 19,
    "_isFastLaunch": false,
    "category": "General purpose",
    "gpuNum": 0,
    "hideHardwareSpecs": false,
    "memoryGiB": 384,
    "name": "ml.m5d.24xlarge",
    "vcpuNum": 96
   },
   {
    "_defaultOrder": 20,
    "_isFastLaunch": false,
    "category": "General purpose",
    "gpuNum": 0,
    "hideHardwareSpecs": true,
    "memoryGiB": 0,
    "name": "ml.geospatial.interactive",
    "supportedImageNames": [
     "sagemaker-geospatial-v1-0"
    ],
    "vcpuNum": 0
   },
   {
    "_defaultOrder": 21,
    "_isFastLaunch": true,
    "category": "Compute optimized",
    "gpuNum": 0,
    "hideHardwareSpecs": false,
    "memoryGiB": 4,
    "name": "ml.c5.large",
    "vcpuNum": 2
   },
   {
    "_defaultOrder": 22,
    "_isFastLaunch": false,
    "category": "Compute optimized",
    "gpuNum": 0,
    "hideHardwareSpecs": false,
    "memoryGiB": 8,
    "name": "ml.c5.xlarge",
    "vcpuNum": 4
   },
   {
    "_defaultOrder": 23,
    "_isFastLaunch": false,
    "category": "Compute optimized",
    "gpuNum": 0,
    "hideHardwareSpecs": false,
    "memoryGiB": 16,
    "name": "ml.c5.2xlarge",
    "vcpuNum": 8
   },
   {
    "_defaultOrder": 24,
    "_isFastLaunch": false,
    "category": "Compute optimized",
    "gpuNum": 0,
    "hideHardwareSpecs": false,
    "memoryGiB": 32,
    "name": "ml.c5.4xlarge",
    "vcpuNum": 16
   },
   {
    "_defaultOrder": 25,
    "_isFastLaunch": false,
    "category": "Compute optimized",
    "gpuNum": 0,
    "hideHardwareSpecs": false,
    "memoryGiB": 72,
    "name": "ml.c5.9xlarge",
    "vcpuNum": 36
   },
   {
    "_defaultOrder": 26,
    "_isFastLaunch": false,
    "category": "Compute optimized",
    "gpuNum": 0,
    "hideHardwareSpecs": false,
    "memoryGiB": 96,
    "name": "ml.c5.12xlarge",
    "vcpuNum": 48
   },
   {
    "_defaultOrder": 27,
    "_isFastLaunch": false,
    "category": "Compute optimized",
    "gpuNum": 0,
    "hideHardwareSpecs": false,
    "memoryGiB": 144,
    "name": "ml.c5.18xlarge",
    "vcpuNum": 72
   },
   {
    "_defaultOrder": 28,
    "_isFastLaunch": false,
    "category": "Compute optimized",
    "gpuNum": 0,
    "hideHardwareSpecs": false,
    "memoryGiB": 192,
    "name": "ml.c5.24xlarge",
    "vcpuNum": 96
   },
   {
    "_defaultOrder": 29,
    "_isFastLaunch": true,
    "category": "Accelerated computing",
    "gpuNum": 1,
    "hideHardwareSpecs": false,
    "memoryGiB": 16,
    "name": "ml.g4dn.xlarge",
    "vcpuNum": 4
   },
   {
    "_defaultOrder": 30,
    "_isFastLaunch": false,
    "category": "Accelerated computing",
    "gpuNum": 1,
    "hideHardwareSpecs": false,
    "memoryGiB": 32,
    "name": "ml.g4dn.2xlarge",
    "vcpuNum": 8
   },
   {
    "_defaultOrder": 31,
    "_isFastLaunch": false,
    "category": "Accelerated computing",
    "gpuNum": 1,
    "hideHardwareSpecs": false,
    "memoryGiB": 64,
    "name": "ml.g4dn.4xlarge",
    "vcpuNum": 16
   },
   {
    "_defaultOrder": 32,
    "_isFastLaunch": false,
    "category": "Accelerated computing",
    "gpuNum": 1,
    "hideHardwareSpecs": false,
    "memoryGiB": 128,
    "name": "ml.g4dn.8xlarge",
    "vcpuNum": 32
   },
   {
    "_defaultOrder": 33,
    "_isFastLaunch": false,
    "category": "Accelerated computing",
    "gpuNum": 4,
    "hideHardwareSpecs": false,
    "memoryGiB": 192,
    "name": "ml.g4dn.12xlarge",
    "vcpuNum": 48
   },
   {
    "_defaultOrder": 34,
    "_isFastLaunch": false,
    "category": "Accelerated computing",
    "gpuNum": 1,
    "hideHardwareSpecs": false,
    "memoryGiB": 256,
    "name": "ml.g4dn.16xlarge",
    "vcpuNum": 64
   },
   {
    "_defaultOrder": 35,
    "_isFastLaunch": false,
    "category": "Accelerated computing",
    "gpuNum": 1,
    "hideHardwareSpecs": false,
    "memoryGiB": 61,
    "name": "ml.p3.2xlarge",
    "vcpuNum": 8
   },
   {
    "_defaultOrder": 36,
    "_isFastLaunch": false,
    "category": "Accelerated computing",
    "gpuNum": 4,
    "hideHardwareSpecs": false,
    "memoryGiB": 244,
    "name": "ml.p3.8xlarge",
    "vcpuNum": 32
   },
   {
    "_defaultOrder": 37,
    "_isFastLaunch": false,
    "category": "Accelerated computing",
    "gpuNum": 8,
    "hideHardwareSpecs": false,
    "memoryGiB": 488,
    "name": "ml.p3.16xlarge",
    "vcpuNum": 64
   },
   {
    "_defaultOrder": 38,
    "_isFastLaunch": false,
    "category": "Accelerated computing",
    "gpuNum": 8,
    "hideHardwareSpecs": false,
    "memoryGiB": 768,
    "name": "ml.p3dn.24xlarge",
    "vcpuNum": 96
   },
   {
    "_defaultOrder": 39,
    "_isFastLaunch": false,
    "category": "Memory Optimized",
    "gpuNum": 0,
    "hideHardwareSpecs": false,
    "memoryGiB": 16,
    "name": "ml.r5.large",
    "vcpuNum": 2
   },
   {
    "_defaultOrder": 40,
    "_isFastLaunch": false,
    "category": "Memory Optimized",
    "gpuNum": 0,
    "hideHardwareSpecs": false,
    "memoryGiB": 32,
    "name": "ml.r5.xlarge",
    "vcpuNum": 4
   },
   {
    "_defaultOrder": 41,
    "_isFastLaunch": false,
    "category": "Memory Optimized",
    "gpuNum": 0,
    "hideHardwareSpecs": false,
    "memoryGiB": 64,
    "name": "ml.r5.2xlarge",
    "vcpuNum": 8
   },
   {
    "_defaultOrder": 42,
    "_isFastLaunch": false,
    "category": "Memory Optimized",
    "gpuNum": 0,
    "hideHardwareSpecs": false,
    "memoryGiB": 128,
    "name": "ml.r5.4xlarge",
    "vcpuNum": 16
   },
   {
    "_defaultOrder": 43,
    "_isFastLaunch": false,
    "category": "Memory Optimized",
    "gpuNum": 0,
    "hideHardwareSpecs": false,
    "memoryGiB": 256,
    "name": "ml.r5.8xlarge",
    "vcpuNum": 32
   },
   {
    "_defaultOrder": 44,
    "_isFastLaunch": false,
    "category": "Memory Optimized",
    "gpuNum": 0,
    "hideHardwareSpecs": false,
    "memoryGiB": 384,
    "name": "ml.r5.12xlarge",
    "vcpuNum": 48
   },
   {
    "_defaultOrder": 45,
    "_isFastLaunch": false,
    "category": "Memory Optimized",
    "gpuNum": 0,
    "hideHardwareSpecs": false,
    "memoryGiB": 512,
    "name": "ml.r5.16xlarge",
    "vcpuNum": 64
   },
   {
    "_defaultOrder": 46,
    "_isFastLaunch": false,
    "category": "Memory Optimized",
    "gpuNum": 0,
    "hideHardwareSpecs": false,
    "memoryGiB": 768,
    "name": "ml.r5.24xlarge",
    "vcpuNum": 96
   },
   {
    "_defaultOrder": 47,
    "_isFastLaunch": false,
    "category": "Accelerated computing",
    "gpuNum": 1,
    "hideHardwareSpecs": false,
    "memoryGiB": 16,
    "name": "ml.g5.xlarge",
    "vcpuNum": 4
   },
   {
    "_defaultOrder": 48,
    "_isFastLaunch": false,
    "category": "Accelerated computing",
    "gpuNum": 1,
    "hideHardwareSpecs": false,
    "memoryGiB": 32,
    "name": "ml.g5.2xlarge",
    "vcpuNum": 8
   },
   {
    "_defaultOrder": 49,
    "_isFastLaunch": false,
    "category": "Accelerated computing",
    "gpuNum": 1,
    "hideHardwareSpecs": false,
    "memoryGiB": 64,
    "name": "ml.g5.4xlarge",
    "vcpuNum": 16
   },
   {
    "_defaultOrder": 50,
    "_isFastLaunch": false,
    "category": "Accelerated computing",
    "gpuNum": 1,
    "hideHardwareSpecs": false,
    "memoryGiB": 128,
    "name": "ml.g5.8xlarge",
    "vcpuNum": 32
   },
   {
    "_defaultOrder": 51,
    "_isFastLaunch": false,
    "category": "Accelerated computing",
    "gpuNum": 1,
    "hideHardwareSpecs": false,
    "memoryGiB": 256,
    "name": "ml.g5.16xlarge",
    "vcpuNum": 64
   },
   {
    "_defaultOrder": 52,
    "_isFastLaunch": false,
    "category": "Accelerated computing",
    "gpuNum": 4,
    "hideHardwareSpecs": false,
    "memoryGiB": 192,
    "name": "ml.g5.12xlarge",
    "vcpuNum": 48
   },
   {
    "_defaultOrder": 53,
    "_isFastLaunch": false,
    "category": "Accelerated computing",
    "gpuNum": 4,
    "hideHardwareSpecs": false,
    "memoryGiB": 384,
    "name": "ml.g5.24xlarge",
    "vcpuNum": 96
   },
   {
    "_defaultOrder": 54,
    "_isFastLaunch": false,
    "category": "Accelerated computing",
    "gpuNum": 8,
    "hideHardwareSpecs": false,
    "memoryGiB": 768,
    "name": "ml.g5.48xlarge",
    "vcpuNum": 192
   },
   {
    "_defaultOrder": 55,
    "_isFastLaunch": false,
    "category": "Accelerated computing",
    "gpuNum": 8,
    "hideHardwareSpecs": false,
    "memoryGiB": 1152,
    "name": "ml.p4d.24xlarge",
    "vcpuNum": 96
   },
   {
    "_defaultOrder": 56,
    "_isFastLaunch": false,
    "category": "Accelerated computing",
    "gpuNum": 8,
    "hideHardwareSpecs": false,
    "memoryGiB": 1152,
    "name": "ml.p4de.24xlarge",
    "vcpuNum": 96
   }
  ],
  "instance_type": "ml.m5.4xlarge",
  "kernelspec": {
   "display_name": "python3 (reinforcement-learning/1)",
   "language": "python",
   "name": "python3__SAGEMAKER_INTERNAL__arn:aws:sagemaker:eu-west-1:823878111748:image-version/reinforcement-learning/1"
  },
  "language_info": {
   "codemirror_mode": {
    "name": "ipython",
    "version": 3
   },
   "file_extension": ".py",
   "mimetype": "text/x-python",
   "name": "python",
   "nbconvert_exporter": "python",
   "pygments_lexer": "ipython3",
   "version": "3.10.12"
  }
 },
 "nbformat": 4,
 "nbformat_minor": 5
}
